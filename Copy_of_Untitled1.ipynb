{
  "nbformat": 4,
  "nbformat_minor": 0,
  "metadata": {
    "colab": {
      "provenance": [],
      "gpuType": "T4",
      "include_colab_link": true
    },
    "kernelspec": {
      "name": "python3",
      "display_name": "Python 3"
    },
    "language_info": {
      "name": "python"
    },
    "accelerator": "GPU"
  },
  "cells": [
    {
      "cell_type": "markdown",
      "metadata": {
        "id": "view-in-github",
        "colab_type": "text"
      },
      "source": [
        "<a href=\"https://colab.research.google.com/github/Wayzer107/wooferlinke/blob/main/Copy_of_Untitled1.ipynb\" target=\"_parent\"><img src=\"https://colab.research.google.com/assets/colab-badge.svg\" alt=\"Open In Colab\"/></a>"
      ]
    },
    {
      "cell_type": "code",
      "execution_count": 1,
      "metadata": {
        "id": "rSZmdYYINFn7",
        "outputId": "89048698-7522-4fc1-fec8-717f3b0ec681",
        "colab": {
          "base_uri": "https://localhost:8080/"
        }
      },
      "outputs": [
        {
          "output_type": "stream",
          "name": "stdout",
          "text": [
            "Requirement already satisfied: mokuro in /usr/local/lib/python3.10/dist-packages (0.1.8)\n",
            "Requirement already satisfied: fire in /usr/local/lib/python3.10/dist-packages (from mokuro) (0.5.0)\n",
            "Requirement already satisfied: loguru in /usr/local/lib/python3.10/dist-packages (from mokuro) (0.7.2)\n",
            "Requirement already satisfied: manga-ocr>=0.1.7 in /usr/local/lib/python3.10/dist-packages (from mokuro) (0.1.11)\n",
            "Requirement already satisfied: natsort in /usr/local/lib/python3.10/dist-packages (from mokuro) (8.4.0)\n",
            "Requirement already satisfied: numpy in /usr/local/lib/python3.10/dist-packages (from mokuro) (1.25.2)\n",
            "Requirement already satisfied: opencv-python>=4.1.2 in /usr/local/lib/python3.10/dist-packages (from mokuro) (4.8.0.76)\n",
            "Requirement already satisfied: Pillow>=7.1.2 in /usr/local/lib/python3.10/dist-packages (from mokuro) (10.2.0)\n",
            "Requirement already satisfied: pyclipper in /usr/local/lib/python3.10/dist-packages (from mokuro) (1.3.0.post5)\n",
            "Requirement already satisfied: requests in /usr/local/lib/python3.10/dist-packages (from mokuro) (2.31.0)\n",
            "Requirement already satisfied: scipy in /usr/local/lib/python3.10/dist-packages (from mokuro) (1.11.4)\n",
            "Requirement already satisfied: shapely in /usr/local/lib/python3.10/dist-packages (from mokuro) (2.0.3)\n",
            "Requirement already satisfied: torch>=1.7.0 in /usr/local/lib/python3.10/dist-packages (from mokuro) (2.1.0+cu121)\n",
            "Requirement already satisfied: torchsummary in /usr/local/lib/python3.10/dist-packages (from mokuro) (1.5.1)\n",
            "Requirement already satisfied: torchvision>=0.8.1 in /usr/local/lib/python3.10/dist-packages (from mokuro) (0.16.0+cu121)\n",
            "Requirement already satisfied: transformers>=4.25.0 in /usr/local/lib/python3.10/dist-packages (from mokuro) (4.38.2)\n",
            "Requirement already satisfied: tqdm>=4.41.0 in /usr/local/lib/python3.10/dist-packages (from mokuro) (4.66.2)\n",
            "Requirement already satisfied: yattag in /usr/local/lib/python3.10/dist-packages (from mokuro) (1.15.2)\n",
            "Requirement already satisfied: fugashi in /usr/local/lib/python3.10/dist-packages (from manga-ocr>=0.1.7->mokuro) (1.3.1)\n",
            "Requirement already satisfied: jaconv in /usr/local/lib/python3.10/dist-packages (from manga-ocr>=0.1.7->mokuro) (0.3.4)\n",
            "Requirement already satisfied: pyperclip in /usr/local/lib/python3.10/dist-packages (from manga-ocr>=0.1.7->mokuro) (1.8.2)\n",
            "Requirement already satisfied: unidic-lite in /usr/local/lib/python3.10/dist-packages (from manga-ocr>=0.1.7->mokuro) (1.0.8)\n",
            "Requirement already satisfied: filelock in /usr/local/lib/python3.10/dist-packages (from torch>=1.7.0->mokuro) (3.13.1)\n",
            "Requirement already satisfied: typing-extensions in /usr/local/lib/python3.10/dist-packages (from torch>=1.7.0->mokuro) (4.10.0)\n",
            "Requirement already satisfied: sympy in /usr/local/lib/python3.10/dist-packages (from torch>=1.7.0->mokuro) (1.12)\n",
            "Requirement already satisfied: networkx in /usr/local/lib/python3.10/dist-packages (from torch>=1.7.0->mokuro) (3.2.1)\n",
            "Requirement already satisfied: jinja2 in /usr/local/lib/python3.10/dist-packages (from torch>=1.7.0->mokuro) (3.1.3)\n",
            "Requirement already satisfied: fsspec in /usr/local/lib/python3.10/dist-packages (from torch>=1.7.0->mokuro) (2023.6.0)\n",
            "Requirement already satisfied: triton==2.1.0 in /usr/local/lib/python3.10/dist-packages (from torch>=1.7.0->mokuro) (2.1.0)\n",
            "Requirement already satisfied: huggingface-hub<1.0,>=0.19.3 in /usr/local/lib/python3.10/dist-packages (from transformers>=4.25.0->mokuro) (0.20.3)\n",
            "Requirement already satisfied: packaging>=20.0 in /usr/local/lib/python3.10/dist-packages (from transformers>=4.25.0->mokuro) (23.2)\n",
            "Requirement already satisfied: pyyaml>=5.1 in /usr/local/lib/python3.10/dist-packages (from transformers>=4.25.0->mokuro) (6.0.1)\n",
            "Requirement already satisfied: regex!=2019.12.17 in /usr/local/lib/python3.10/dist-packages (from transformers>=4.25.0->mokuro) (2023.12.25)\n",
            "Requirement already satisfied: tokenizers<0.19,>=0.14 in /usr/local/lib/python3.10/dist-packages (from transformers>=4.25.0->mokuro) (0.15.2)\n",
            "Requirement already satisfied: safetensors>=0.4.1 in /usr/local/lib/python3.10/dist-packages (from transformers>=4.25.0->mokuro) (0.4.2)\n",
            "Requirement already satisfied: six in /usr/local/lib/python3.10/dist-packages (from fire->mokuro) (1.16.0)\n",
            "Requirement already satisfied: termcolor in /usr/local/lib/python3.10/dist-packages (from fire->mokuro) (2.4.0)\n",
            "Requirement already satisfied: charset-normalizer<4,>=2 in /usr/local/lib/python3.10/dist-packages (from requests->mokuro) (3.3.2)\n",
            "Requirement already satisfied: idna<4,>=2.5 in /usr/local/lib/python3.10/dist-packages (from requests->mokuro) (3.6)\n",
            "Requirement already satisfied: urllib3<3,>=1.21.1 in /usr/local/lib/python3.10/dist-packages (from requests->mokuro) (2.0.7)\n",
            "Requirement already satisfied: certifi>=2017.4.17 in /usr/local/lib/python3.10/dist-packages (from requests->mokuro) (2024.2.2)\n",
            "Requirement already satisfied: MarkupSafe>=2.0 in /usr/local/lib/python3.10/dist-packages (from jinja2->torch>=1.7.0->mokuro) (2.1.5)\n",
            "Requirement already satisfied: mpmath>=0.19 in /usr/local/lib/python3.10/dist-packages (from sympy->torch>=1.7.0->mokuro) (1.3.0)\n"
          ]
        }
      ],
      "source": [
        "!pip3 install mokuro\n",
        "import mokuro"
      ]
    },
    {
      "cell_type": "code",
      "source": [
        "from google.colab import drive\n",
        "drive.mount('/content/drive')"
      ],
      "metadata": {
        "id": "nGXOYiyCSKhs",
        "outputId": "4db12397-2686-429c-8b66-0656144829e2",
        "colab": {
          "base_uri": "https://localhost:8080/"
        }
      },
      "execution_count": 2,
      "outputs": [
        {
          "output_type": "stream",
          "name": "stdout",
          "text": [
            "Drive already mounted at /content/drive; to attempt to forcibly remount, call drive.mount(\"/content/drive\", force_remount=True).\n"
          ]
        }
      ]
    },
    {
      "cell_type": "code",
      "source": [
        "!cd /content/drive/Mydrive\n",
        "!mokuro --parent-dir /content/drive/MyDrive/ --disable_confirmation"
      ],
      "metadata": {
        "id": "J4wEZ04kQ6Q-",
        "outputId": "c239b4c5-b346-40eb-9a7f-eb046e8cabc4",
        "colab": {
          "base_uri": "https://localhost:8080/"
        }
      },
      "execution_count": null,
      "outputs": [
        {
          "output_type": "stream",
          "name": "stdout",
          "text": [
            "/bin/bash: line 1: cd: /content/drive/Mydrive: No such file or directory\n",
            "\n",
            "Paths to process:\n",
            "\n",
            "/content/drive/MyDrive/(C103) [Kokouten Shobo (Dark Shot)] Futanari OL Senpai…sekuhara shite mo iidesu yo\n",
            "/content/drive/MyDrive/[A-WALKs (Fujishima Sei1go)] Otokogirai o Kojiraseta Onna ni Chinko Hayashite Mita Kekka(1)\n",
            "/content/drive/MyDrive/[Marui Maru] Futanari Saikyouiku Futanari Re-Education (Futanarikko Fantasia II) [English] [biribiri] [Decensored]\n",
            "/content/drive/MyDrive/[Marui Maru] Futanari Saikyouiku Futanari Re-Education (Futanarikko Fantasia II) [English] [biribiri] [Decensored](1)\n",
            "/content/drive/MyDrive/[Remora Works (Various)] REMORA WORKS 2017 [Digital]\n",
            "/content/drive/MyDrive/samezeki\n",
            "\u001b[32m2024-03-10 07:37:53.624\u001b[0m | \u001b[1mINFO    \u001b[0m | \u001b[36mmokuro.run\u001b[0m:\u001b[36mrun\u001b[0m:\u001b[36m48\u001b[0m - \u001b[1mProcessing 1/6: /content/drive/MyDrive/(C103) [Kokouten Shobo (Dark Shot)] Futanari OL Senpai…sekuhara shite mo iidesu yo\u001b[0m\n",
            "Processing pages...:   0% 0/14 [00:00<?, ?it/s]\u001b[32m2024-03-10 07:37:53.636\u001b[0m | \u001b[1mINFO    \u001b[0m | \u001b[36mmokuro.manga_page_ocr\u001b[0m:\u001b[36m__init__\u001b[0m:\u001b[36m36\u001b[0m - \u001b[1mInitializing text detector\u001b[0m\n",
            "\u001b[32m2024-03-10 07:37:53.636\u001b[0m | \u001b[1mINFO    \u001b[0m | \u001b[36mmokuro.cache\u001b[0m:\u001b[36m_download_if_needed\u001b[0m:\u001b[36m22\u001b[0m - \u001b[1mDownloading https://github.com/zyddnys/manga-image-translator/releases/download/beta-0.2.1/comictextdetector.pt\u001b[0m\n",
            "\u001b[32m2024-03-10 07:37:55.820\u001b[0m | \u001b[1mINFO    \u001b[0m | \u001b[36mmokuro.cache\u001b[0m:\u001b[36m_download_if_needed\u001b[0m:\u001b[36m30\u001b[0m - \u001b[1mFinished downloading https://github.com/zyddnys/manga-image-translator/releases/download/beta-0.2.1/comictextdetector.pt\u001b[0m\n",
            "\u001b[32m2024-03-10 07:37:56.850\u001b[0m | \u001b[1mINFO    \u001b[0m | \u001b[36mmanga_ocr.ocr\u001b[0m:\u001b[36m__init__\u001b[0m:\u001b[36m13\u001b[0m - \u001b[1mLoading OCR model from kha-white/manga-ocr-base\u001b[0m\n",
            "\n",
            "preprocessor_config.json: 100% 228/228 [00:00<00:00, 938kB/s]\n",
            "2024-03-10 07:37:57.601517: E external/local_xla/xla/stream_executor/cuda/cuda_dnn.cc:9261] Unable to register cuDNN factory: Attempting to register factory for plugin cuDNN when one has already been registered\n",
            "2024-03-10 07:37:57.601573: E external/local_xla/xla/stream_executor/cuda/cuda_fft.cc:607] Unable to register cuFFT factory: Attempting to register factory for plugin cuFFT when one has already been registered\n",
            "2024-03-10 07:37:57.603348: E external/local_xla/xla/stream_executor/cuda/cuda_blas.cc:1515] Unable to register cuBLAS factory: Attempting to register factory for plugin cuBLAS when one has already been registered\n",
            "2024-03-10 07:37:58.874234: W tensorflow/compiler/tf2tensorrt/utils/py_utils.cc:38] TF-TRT Warning: Could not find TensorRT\n",
            "\n",
            "tokenizer_config.json: 100% 486/486 [00:00<00:00, 2.63MB/s]\n",
            "\n",
            "vocab.txt: 100% 24.1k/24.1k [00:00<00:00, 74.1MB/s]\n",
            "\n",
            "special_tokens_map.json: 100% 112/112 [00:00<00:00, 631kB/s]\n",
            "\n",
            "config.json: 100% 77.5k/77.5k [00:00<00:00, 10.6MB/s]\n",
            "\n",
            "pytorch_model.bin:   0% 0.00/444M [00:00<?, ?B/s]\u001b[A\n",
            "pytorch_model.bin:   5% 21.0M/444M [00:00<00:02, 184MB/s]\u001b[A\n",
            "pytorch_model.bin:  12% 52.4M/444M [00:00<00:01, 234MB/s]\u001b[A\n",
            "pytorch_model.bin:  19% 83.9M/444M [00:00<00:01, 234MB/s]\u001b[A\n",
            "pytorch_model.bin:  26% 115M/444M [00:00<00:01, 230MB/s] \u001b[A\n",
            "pytorch_model.bin:  33% 147M/444M [00:00<00:01, 232MB/s]\u001b[A\n",
            "pytorch_model.bin:  40% 178M/444M [00:00<00:01, 231MB/s]\u001b[A\n",
            "pytorch_model.bin:  47% 210M/444M [00:00<00:01, 229MB/s]\u001b[A\n",
            "pytorch_model.bin:  54% 241M/444M [00:01<00:00, 232MB/s]\u001b[A\n",
            "pytorch_model.bin:  61% 273M/444M [00:01<00:00, 236MB/s]\u001b[A\n",
            "pytorch_model.bin:  68% 304M/444M [00:01<00:00, 241MB/s]\u001b[A\n",
            "pytorch_model.bin:  76% 336M/444M [00:01<00:00, 242MB/s]\u001b[A\n",
            "pytorch_model.bin:  83% 367M/444M [00:01<00:00, 245MB/s]\u001b[A\n",
            "pytorch_model.bin:  90% 398M/444M [00:01<00:00, 241MB/s]\u001b[A\n",
            "pytorch_model.bin: 100% 444M/444M [00:01<00:00, 235MB/s]\n",
            "\u001b[32m2024-03-10 07:38:05.743\u001b[0m | \u001b[1mINFO    \u001b[0m | \u001b[36mmanga_ocr.ocr\u001b[0m:\u001b[36m__init__\u001b[0m:\u001b[36m19\u001b[0m - \u001b[1mUsing CUDA\u001b[0m\n",
            "\u001b[32m2024-03-10 07:38:07.586\u001b[0m | \u001b[1mINFO    \u001b[0m | \u001b[36mmanga_ocr.ocr\u001b[0m:\u001b[36m__init__\u001b[0m:\u001b[36m32\u001b[0m - \u001b[1mOCR ready\u001b[0m\n",
            "Processing pages...: 100% 14/14 [01:56<00:00,  8.30s/it]\n",
            "\u001b[32m2024-03-10 07:39:49.849\u001b[0m | \u001b[1mINFO    \u001b[0m | \u001b[36mmokuro.run\u001b[0m:\u001b[36mrun\u001b[0m:\u001b[36m48\u001b[0m - \u001b[1mProcessing 2/6: /content/drive/MyDrive/[A-WALKs (Fujishima Sei1go)] Otokogirai o Kojiraseta Onna ni Chinko Hayashite Mita Kekka(1)\u001b[0m\n",
            "Processing pages...:  11% 8/70 [00:52<06:30,  6.30s/it]"
          ]
        }
      ]
    }
  ]
}
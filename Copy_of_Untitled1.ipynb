{
  "nbformat": 4,
  "nbformat_minor": 0,
  "metadata": {
    "colab": {
      "provenance": [],
      "gpuType": "T4",
      "mount_file_id": "1808b-cWOpCAss3J5dGL-AnuYX8ezqlc3",
      "authorship_tag": "ABX9TyMOcmmw6ZFa5Z/2PK2GiP02",
      "include_colab_link": true
    },
    "kernelspec": {
      "name": "python3",
      "display_name": "Python 3"
    },
    "language_info": {
      "name": "python"
    },
    "accelerator": "GPU"
  },
  "cells": [
    {
      "cell_type": "markdown",
      "metadata": {
        "id": "view-in-github",
        "colab_type": "text"
      },
      "source": [
        "<a href=\"https://colab.research.google.com/github/Wayzer107/wooferlinke/blob/main/Copy_of_Untitled1.ipynb\" target=\"_parent\"><img src=\"https://colab.research.google.com/assets/colab-badge.svg\" alt=\"Open In Colab\"/></a>"
      ]
    },
    {
      "cell_type": "code",
      "execution_count": null,
      "metadata": {
        "id": "rSZmdYYINFn7"
      },
      "outputs": [],
      "source": [
        "!pip3 install mokuro\n",
        "import mokuro"
      ]
    },
    {
      "cell_type": "code",
      "source": [
        "!mokuro /content/drive/MyDrive/woof/ --disable_confirmation"
      ],
      "metadata": {
        "id": "J4wEZ04kQ6Q-"
      },
      "execution_count": null,
      "outputs": []
    }
  ]
}